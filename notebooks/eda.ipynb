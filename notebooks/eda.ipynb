{
  "nbformat": 4,
  "nbformat_minor": 0,
  "metadata": {
    "colab": {
      "provenance": [],
      "authorship_tag": "ABX9TyNh1bSvr/fLIqmIDHOj95xn",
      "include_colab_link": true
    },
    "kernelspec": {
      "name": "python3",
      "display_name": "Python 3"
    },
    "language_info": {
      "name": "python"
    }
  },
  "cells": [
    {
      "cell_type": "markdown",
      "metadata": {
        "id": "view-in-github",
        "colab_type": "text"
      },
      "source": [
        "<a href=\"https://colab.research.google.com/github/toussyn/delivery_app_causal_inference/blob/main/notebooks/eda.ipynb\" target=\"_parent\"><img src=\"https://colab.research.google.com/assets/colab-badge.svg\" alt=\"Open In Colab\"/></a>"
      ]
    },
    {
      "cell_type": "code",
      "execution_count": null,
      "metadata": {
        "colab": {
          "base_uri": "https://localhost:8080/"
        },
        "id": "SeEzBkoWg1Qn",
        "outputId": "60e672ed-18df-487c-8500-d25e25f4fecb"
      },
      "outputs": [
        {
          "output_type": "stream",
          "name": "stdout",
          "text": [
            "Looking in indexes: https://pypi.org/simple, https://us-python.pkg.dev/colab-wheels/public/simple/\n",
            "Collecting datashader\n",
            "  Downloading datashader-0.14.2-py2.py3-none-any.whl (18.2 MB)\n",
            "\u001b[K     |████████████████████████████████| 18.2 MB 687 kB/s \n",
            "\u001b[?25hRequirement already satisfied: xarray>=0.9.6 in /usr/local/lib/python3.7/dist-packages (from datashader) (0.20.2)\n",
            "Collecting datashape>=0.5.1\n",
            "  Downloading datashape-0.5.2.tar.gz (76 kB)\n",
            "\u001b[K     |████████████████████████████████| 76 kB 4.4 MB/s \n",
            "\u001b[?25hRequirement already satisfied: numba>=0.51 in /usr/local/lib/python3.7/dist-packages (from datashader) (0.56.3)\n",
            "Requirement already satisfied: scipy in /usr/local/lib/python3.7/dist-packages (from datashader) (1.7.3)\n",
            "Requirement already satisfied: param>=1.6.1 in /usr/local/lib/python3.7/dist-packages (from datashader) (1.12.2)\n",
            "Requirement already satisfied: requests in /usr/local/lib/python3.7/dist-packages (from datashader) (2.23.0)\n",
            "Requirement already satisfied: pillow>=3.1.1 in /usr/local/lib/python3.7/dist-packages (from datashader) (7.1.2)\n",
            "Requirement already satisfied: pandas>=0.24.1 in /usr/local/lib/python3.7/dist-packages (from datashader) (1.3.5)\n",
            "Requirement already satisfied: pyct>=0.4.5 in /usr/local/lib/python3.7/dist-packages (from datashader) (0.4.8)\n",
            "Requirement already satisfied: dask[complete] in /usr/local/lib/python3.7/dist-packages (from datashader) (2022.2.0)\n",
            "Requirement already satisfied: colorcet>=0.9.0 in /usr/local/lib/python3.7/dist-packages (from datashader) (3.0.1)\n",
            "Requirement already satisfied: numpy>=1.7 in /usr/local/lib/python3.7/dist-packages (from datashape>=0.5.1->datashader) (1.21.6)\n",
            "Requirement already satisfied: multipledispatch>=0.4.7 in /usr/local/lib/python3.7/dist-packages (from datashape>=0.5.1->datashader) (0.6.0)\n",
            "Requirement already satisfied: python-dateutil in /usr/local/lib/python3.7/dist-packages (from datashape>=0.5.1->datashader) (2.8.2)\n",
            "Requirement already satisfied: six in /usr/local/lib/python3.7/dist-packages (from multipledispatch>=0.4.7->datashape>=0.5.1->datashader) (1.15.0)\n",
            "Requirement already satisfied: importlib-metadata in /usr/local/lib/python3.7/dist-packages (from numba>=0.51->datashader) (4.13.0)\n",
            "Requirement already satisfied: setuptools in /usr/local/lib/python3.7/dist-packages (from numba>=0.51->datashader) (57.4.0)\n",
            "Requirement already satisfied: llvmlite<0.40,>=0.39.0dev0 in /usr/local/lib/python3.7/dist-packages (from numba>=0.51->datashader) (0.39.1)\n",
            "Requirement already satisfied: pytz>=2017.3 in /usr/local/lib/python3.7/dist-packages (from pandas>=0.24.1->datashader) (2022.4)\n",
            "Requirement already satisfied: typing-extensions>=3.7 in /usr/local/lib/python3.7/dist-packages (from xarray>=0.9.6->datashader) (4.1.1)\n",
            "Requirement already satisfied: partd>=0.3.10 in /usr/local/lib/python3.7/dist-packages (from dask[complete]->datashader) (1.3.0)\n",
            "Requirement already satisfied: fsspec>=0.6.0 in /usr/local/lib/python3.7/dist-packages (from dask[complete]->datashader) (2022.8.2)\n",
            "Requirement already satisfied: pyyaml>=5.3.1 in /usr/local/lib/python3.7/dist-packages (from dask[complete]->datashader) (6.0)\n",
            "Requirement already satisfied: cloudpickle>=1.1.1 in /usr/local/lib/python3.7/dist-packages (from dask[complete]->datashader) (1.5.0)\n",
            "Requirement already satisfied: toolz>=0.8.2 in /usr/local/lib/python3.7/dist-packages (from dask[complete]->datashader) (0.12.0)\n",
            "Requirement already satisfied: packaging>=20.0 in /usr/local/lib/python3.7/dist-packages (from dask[complete]->datashader) (21.3)\n",
            "Requirement already satisfied: jinja2 in /usr/local/lib/python3.7/dist-packages (from dask[complete]->datashader) (2.11.3)\n",
            "Requirement already satisfied: distributed==2022.02.0 in /usr/local/lib/python3.7/dist-packages (from dask[complete]->datashader) (2022.2.0)\n",
            "Requirement already satisfied: bokeh>=2.1.1 in /usr/local/lib/python3.7/dist-packages (from dask[complete]->datashader) (2.3.3)\n",
            "Requirement already satisfied: zict>=0.1.3 in /usr/local/lib/python3.7/dist-packages (from distributed==2022.02.0->dask[complete]->datashader) (2.2.0)\n",
            "Requirement already satisfied: tblib>=1.6.0 in /usr/local/lib/python3.7/dist-packages (from distributed==2022.02.0->dask[complete]->datashader) (1.7.0)\n",
            "Requirement already satisfied: psutil>=5.0 in /usr/local/lib/python3.7/dist-packages (from distributed==2022.02.0->dask[complete]->datashader) (5.4.8)\n",
            "Requirement already satisfied: click>=6.6 in /usr/local/lib/python3.7/dist-packages (from distributed==2022.02.0->dask[complete]->datashader) (7.1.2)\n",
            "Requirement already satisfied: sortedcontainers!=2.0.0,!=2.0.1 in /usr/local/lib/python3.7/dist-packages (from distributed==2022.02.0->dask[complete]->datashader) (2.4.0)\n",
            "Requirement already satisfied: msgpack>=0.6.0 in /usr/local/lib/python3.7/dist-packages (from distributed==2022.02.0->dask[complete]->datashader) (1.0.4)\n",
            "Requirement already satisfied: tornado>=5 in /usr/local/lib/python3.7/dist-packages (from distributed==2022.02.0->dask[complete]->datashader) (5.1.1)\n",
            "Requirement already satisfied: MarkupSafe>=0.23 in /usr/local/lib/python3.7/dist-packages (from jinja2->dask[complete]->datashader) (2.0.1)\n",
            "Requirement already satisfied: pyparsing!=3.0.5,>=2.0.2 in /usr/local/lib/python3.7/dist-packages (from packaging>=20.0->dask[complete]->datashader) (3.0.9)\n",
            "Requirement already satisfied: locket in /usr/local/lib/python3.7/dist-packages (from partd>=0.3.10->dask[complete]->datashader) (1.0.0)\n",
            "Requirement already satisfied: heapdict in /usr/local/lib/python3.7/dist-packages (from zict>=0.1.3->distributed==2022.02.0->dask[complete]->datashader) (1.0.1)\n",
            "Requirement already satisfied: zipp>=0.5 in /usr/local/lib/python3.7/dist-packages (from importlib-metadata->numba>=0.51->datashader) (3.9.0)\n",
            "Requirement already satisfied: urllib3!=1.25.0,!=1.25.1,<1.26,>=1.21.1 in /usr/local/lib/python3.7/dist-packages (from requests->datashader) (1.24.3)\n",
            "Requirement already satisfied: certifi>=2017.4.17 in /usr/local/lib/python3.7/dist-packages (from requests->datashader) (2022.9.24)\n",
            "Requirement already satisfied: chardet<4,>=3.0.2 in /usr/local/lib/python3.7/dist-packages (from requests->datashader) (3.0.4)\n",
            "Requirement already satisfied: idna<3,>=2.5 in /usr/local/lib/python3.7/dist-packages (from requests->datashader) (2.10)\n",
            "Building wheels for collected packages: datashape\n",
            "  Building wheel for datashape (setup.py) ... \u001b[?25l\u001b[?25hdone\n",
            "  Created wheel for datashape: filename=datashape-0.5.2-py3-none-any.whl size=59438 sha256=f25b0341c4547a1ccd4defa97c0b6fef45ff3acc8ae07967b87f188e85f5a30c\n",
            "  Stored in directory: /root/.cache/pip/wheels/b5/b7/80/333a5c3312ed4cd54f5d5b869868c14e0c6002cb5c7238b52d\n",
            "Successfully built datashape\n",
            "Installing collected packages: datashape, datashader\n",
            "Successfully installed datashader-0.14.2 datashape-0.5.2\n"
          ]
        }
      ],
      "source": [
        "pip install datashader"
      ]
    },
    {
      "cell_type": "code",
      "source": [
        "from google.colab import drive\n",
        "drive.mount('/gdrive')\n",
        "%cd /gdrive"
      ],
      "metadata": {
        "colab": {
          "base_uri": "https://localhost:8080/"
        },
        "id": "OoGOLQp3katR",
        "outputId": "a00b1e44-a730-4deb-9f20-124ca9e00852"
      },
      "execution_count": null,
      "outputs": [
        {
          "output_type": "stream",
          "name": "stdout",
          "text": [
            "Mounted at /gdrive\n",
            "/gdrive\n"
          ]
        }
      ]
    },
    {
      "cell_type": "code",
      "source": [
        "# Utilities\n",
        "\n",
        "# create new columns from existing column\n",
        "def create_column(dframe, new_list, old_column):\n",
        "  dframe[new_list] = dframe[old_column].str.split(',', 1, expand=True).astype(float)\n",
        "\n",
        "#convert to datetime\n",
        "def convert_to_datetime(series):\n",
        "  series = pd.to_datetime(series)\n",
        "  return series"
      ],
      "metadata": {
        "id": "r7AoxHo46Yq7"
      },
      "execution_count": null,
      "outputs": []
    },
    {
      "cell_type": "code",
      "source": [
        "import pandas as pd\n",
        "import numpy as np\n",
        "import datashader as ds\n",
        "import colorcet as cc\n",
        "import holoviews as hv\n",
        "from holoviews.element.tiles import EsriImagery, OSM, EsriStreet\n",
        "from holoviews.operation.datashader import datashade"
      ],
      "metadata": {
        "id": "s7rxe6qM6Dzb"
      },
      "execution_count": null,
      "outputs": []
    },
    {
      "cell_type": "code",
      "source": [
        "df = pd.read_csv('My Drive/10X/Gokada/nb.csv')\n",
        "df.head()"
      ],
      "metadata": {
        "colab": {
          "base_uri": "https://localhost:8080/",
          "height": 206
        },
        "id": "iSY8SB6QmXNl",
        "outputId": "c32709ad-1969-4ed0-8b87-4d0826b12ac2"
      },
      "execution_count": null,
      "outputs": [
        {
          "output_type": "execute_result",
          "data": {
            "text/plain": [
              "   Trip ID                         Trip Origin  \\\n",
              "0   391996  6.508813001668548,3.37740316890347   \n",
              "1   391997                 6.4316714,3.4555375   \n",
              "2   391998         6.631679399999999,3.3388976   \n",
              "3   391999         6.572757200000001,3.3677082   \n",
              "4   392001                 6.6010417,3.2766339   \n",
              "\n",
              "                  Trip Destination      Trip Start Time        Trip End Time  \n",
              "0      6.650969799999999,3.3450307  2021-07-01 07:28:04  2021-07-01 07:29:37  \n",
              "1  6.4280814653326,3.4721885847586  2021-07-01 06:38:04  2021-07-01 07:07:28  \n",
              "2      6.508324099999999,3.3590397  2021-07-01 06:21:02  2021-07-01 07:02:23  \n",
              "3      6.584881099999999,3.3614073  2021-07-01 07:16:07  2021-07-01 07:29:42  \n",
              "4              6.4501069,3.3916154  2021-07-01 09:30:59  2021-07-01 09:34:36  "
            ],
            "text/html": [
              "\n",
              "  <div id=\"df-8707aa81-5b5e-4732-87a2-618008f25504\">\n",
              "    <div class=\"colab-df-container\">\n",
              "      <div>\n",
              "<style scoped>\n",
              "    .dataframe tbody tr th:only-of-type {\n",
              "        vertical-align: middle;\n",
              "    }\n",
              "\n",
              "    .dataframe tbody tr th {\n",
              "        vertical-align: top;\n",
              "    }\n",
              "\n",
              "    .dataframe thead th {\n",
              "        text-align: right;\n",
              "    }\n",
              "</style>\n",
              "<table border=\"1\" class=\"dataframe\">\n",
              "  <thead>\n",
              "    <tr style=\"text-align: right;\">\n",
              "      <th></th>\n",
              "      <th>Trip ID</th>\n",
              "      <th>Trip Origin</th>\n",
              "      <th>Trip Destination</th>\n",
              "      <th>Trip Start Time</th>\n",
              "      <th>Trip End Time</th>\n",
              "    </tr>\n",
              "  </thead>\n",
              "  <tbody>\n",
              "    <tr>\n",
              "      <th>0</th>\n",
              "      <td>391996</td>\n",
              "      <td>6.508813001668548,3.37740316890347</td>\n",
              "      <td>6.650969799999999,3.3450307</td>\n",
              "      <td>2021-07-01 07:28:04</td>\n",
              "      <td>2021-07-01 07:29:37</td>\n",
              "    </tr>\n",
              "    <tr>\n",
              "      <th>1</th>\n",
              "      <td>391997</td>\n",
              "      <td>6.4316714,3.4555375</td>\n",
              "      <td>6.4280814653326,3.4721885847586</td>\n",
              "      <td>2021-07-01 06:38:04</td>\n",
              "      <td>2021-07-01 07:07:28</td>\n",
              "    </tr>\n",
              "    <tr>\n",
              "      <th>2</th>\n",
              "      <td>391998</td>\n",
              "      <td>6.631679399999999,3.3388976</td>\n",
              "      <td>6.508324099999999,3.3590397</td>\n",
              "      <td>2021-07-01 06:21:02</td>\n",
              "      <td>2021-07-01 07:02:23</td>\n",
              "    </tr>\n",
              "    <tr>\n",
              "      <th>3</th>\n",
              "      <td>391999</td>\n",
              "      <td>6.572757200000001,3.3677082</td>\n",
              "      <td>6.584881099999999,3.3614073</td>\n",
              "      <td>2021-07-01 07:16:07</td>\n",
              "      <td>2021-07-01 07:29:42</td>\n",
              "    </tr>\n",
              "    <tr>\n",
              "      <th>4</th>\n",
              "      <td>392001</td>\n",
              "      <td>6.6010417,3.2766339</td>\n",
              "      <td>6.4501069,3.3916154</td>\n",
              "      <td>2021-07-01 09:30:59</td>\n",
              "      <td>2021-07-01 09:34:36</td>\n",
              "    </tr>\n",
              "  </tbody>\n",
              "</table>\n",
              "</div>\n",
              "      <button class=\"colab-df-convert\" onclick=\"convertToInteractive('df-8707aa81-5b5e-4732-87a2-618008f25504')\"\n",
              "              title=\"Convert this dataframe to an interactive table.\"\n",
              "              style=\"display:none;\">\n",
              "        \n",
              "  <svg xmlns=\"http://www.w3.org/2000/svg\" height=\"24px\"viewBox=\"0 0 24 24\"\n",
              "       width=\"24px\">\n",
              "    <path d=\"M0 0h24v24H0V0z\" fill=\"none\"/>\n",
              "    <path d=\"M18.56 5.44l.94 2.06.94-2.06 2.06-.94-2.06-.94-.94-2.06-.94 2.06-2.06.94zm-11 1L8.5 8.5l.94-2.06 2.06-.94-2.06-.94L8.5 2.5l-.94 2.06-2.06.94zm10 10l.94 2.06.94-2.06 2.06-.94-2.06-.94-.94-2.06-.94 2.06-2.06.94z\"/><path d=\"M17.41 7.96l-1.37-1.37c-.4-.4-.92-.59-1.43-.59-.52 0-1.04.2-1.43.59L10.3 9.45l-7.72 7.72c-.78.78-.78 2.05 0 2.83L4 21.41c.39.39.9.59 1.41.59.51 0 1.02-.2 1.41-.59l7.78-7.78 2.81-2.81c.8-.78.8-2.07 0-2.86zM5.41 20L4 18.59l7.72-7.72 1.47 1.35L5.41 20z\"/>\n",
              "  </svg>\n",
              "      </button>\n",
              "      \n",
              "  <style>\n",
              "    .colab-df-container {\n",
              "      display:flex;\n",
              "      flex-wrap:wrap;\n",
              "      gap: 12px;\n",
              "    }\n",
              "\n",
              "    .colab-df-convert {\n",
              "      background-color: #E8F0FE;\n",
              "      border: none;\n",
              "      border-radius: 50%;\n",
              "      cursor: pointer;\n",
              "      display: none;\n",
              "      fill: #1967D2;\n",
              "      height: 32px;\n",
              "      padding: 0 0 0 0;\n",
              "      width: 32px;\n",
              "    }\n",
              "\n",
              "    .colab-df-convert:hover {\n",
              "      background-color: #E2EBFA;\n",
              "      box-shadow: 0px 1px 2px rgba(60, 64, 67, 0.3), 0px 1px 3px 1px rgba(60, 64, 67, 0.15);\n",
              "      fill: #174EA6;\n",
              "    }\n",
              "\n",
              "    [theme=dark] .colab-df-convert {\n",
              "      background-color: #3B4455;\n",
              "      fill: #D2E3FC;\n",
              "    }\n",
              "\n",
              "    [theme=dark] .colab-df-convert:hover {\n",
              "      background-color: #434B5C;\n",
              "      box-shadow: 0px 1px 3px 1px rgba(0, 0, 0, 0.15);\n",
              "      filter: drop-shadow(0px 1px 2px rgba(0, 0, 0, 0.3));\n",
              "      fill: #FFFFFF;\n",
              "    }\n",
              "  </style>\n",
              "\n",
              "      <script>\n",
              "        const buttonEl =\n",
              "          document.querySelector('#df-8707aa81-5b5e-4732-87a2-618008f25504 button.colab-df-convert');\n",
              "        buttonEl.style.display =\n",
              "          google.colab.kernel.accessAllowed ? 'block' : 'none';\n",
              "\n",
              "        async function convertToInteractive(key) {\n",
              "          const element = document.querySelector('#df-8707aa81-5b5e-4732-87a2-618008f25504');\n",
              "          const dataTable =\n",
              "            await google.colab.kernel.invokeFunction('convertToInteractive',\n",
              "                                                     [key], {});\n",
              "          if (!dataTable) return;\n",
              "\n",
              "          const docLinkHtml = 'Like what you see? Visit the ' +\n",
              "            '<a target=\"_blank\" href=https://colab.research.google.com/notebooks/data_table.ipynb>data table notebook</a>'\n",
              "            + ' to learn more about interactive tables.';\n",
              "          element.innerHTML = '';\n",
              "          dataTable['output_type'] = 'display_data';\n",
              "          await google.colab.output.renderOutput(dataTable, element);\n",
              "          const docLink = document.createElement('div');\n",
              "          docLink.innerHTML = docLinkHtml;\n",
              "          element.appendChild(docLink);\n",
              "        }\n",
              "      </script>\n",
              "    </div>\n",
              "  </div>\n",
              "  "
            ]
          },
          "metadata": {},
          "execution_count": 7
        }
      ]
    },
    {
      "cell_type": "markdown",
      "source": [
        "# 1. Basic information about data\n",
        "\n",
        "Some basic information about the data type, non-null values and memory usage."
      ],
      "metadata": {
        "id": "s1GYBDGKz7gz"
      }
    },
    {
      "cell_type": "code",
      "source": [
        "#Basic information\n",
        "df.info()\n",
        "df.shape"
      ],
      "metadata": {
        "colab": {
          "base_uri": "https://localhost:8080/"
        },
        "id": "_30ytO76z4sA",
        "outputId": "f488b249-f780-4193-f34f-b9ca6c6abc07"
      },
      "execution_count": null,
      "outputs": [
        {
          "output_type": "stream",
          "name": "stdout",
          "text": [
            "<class 'pandas.core.frame.DataFrame'>\n",
            "RangeIndex: 536020 entries, 0 to 536019\n",
            "Data columns (total 9 columns):\n",
            " #   Column            Non-Null Count   Dtype         \n",
            "---  ------            --------------   -----         \n",
            " 0   Trip ID           536020 non-null  int64         \n",
            " 1   Trip Origin       536020 non-null  object        \n",
            " 2   Trip Destination  536020 non-null  object        \n",
            " 3   Trip Start Time   534369 non-null  datetime64[ns]\n",
            " 4   Trip End Time     536019 non-null  datetime64[ns]\n",
            " 5   trip_origin_long  536020 non-null  float64       \n",
            " 6   trip_origin_lat   536020 non-null  float64       \n",
            " 7   trip_dest_long    536020 non-null  float64       \n",
            " 8   trip_dest_lat     536020 non-null  float64       \n",
            "dtypes: datetime64[ns](2), float64(4), int64(1), object(2)\n",
            "memory usage: 36.8+ MB\n"
          ]
        },
        {
          "output_type": "execute_result",
          "data": {
            "text/plain": [
              "(536020, 9)"
            ]
          },
          "metadata": {},
          "execution_count": 24
        }
      ]
    },
    {
      "cell_type": "markdown",
      "source": [
        "The Trip Origin and the Trip Destination which cotains latitude and longitude of the origin and destination locations respectively, but they are not in float type. Same goes for the Trip Start Time and Trip End Time which are supposed to be in a datetime object but are not. Let's fix them.  "
      ],
      "metadata": {
        "id": "l2P1M1Sm4VEp"
      }
    },
    {
      "cell_type": "code",
      "source": [
        "def create_column(dframe, new_list, old_column):\n",
        "  dframe[new_list] = dframe[old_column].str.split(',', 1, expand=True).astype(float)\n",
        "# create new columns\n",
        "create_column(df, ['trip_origin_lat', 'trip_origin_long'], 'Trip Origin')\n",
        "create_column(df, ['trip_dest_lat', 'trip_dest_long'], 'Trip Destination')\n",
        "\n",
        "df.head()"
      ],
      "metadata": {
        "colab": {
          "base_uri": "https://localhost:8080/",
          "height": 372
        },
        "id": "tp1hVUE45-sE",
        "outputId": "e5290f4d-2680-44f8-fe9a-ebee972e20b1"
      },
      "execution_count": null,
      "outputs": [
        {
          "output_type": "execute_result",
          "data": {
            "text/plain": [
              "   Trip ID                         Trip Origin  \\\n",
              "0   391996  6.508813001668548,3.37740316890347   \n",
              "1   391997                 6.4316714,3.4555375   \n",
              "2   391998         6.631679399999999,3.3388976   \n",
              "3   391999         6.572757200000001,3.3677082   \n",
              "4   392001                 6.6010417,3.2766339   \n",
              "\n",
              "                  Trip Destination      Trip Start Time        Trip End Time  \\\n",
              "0      6.650969799999999,3.3450307  2021-07-01 07:28:04  2021-07-01 07:29:37   \n",
              "1  6.4280814653326,3.4721885847586  2021-07-01 06:38:04  2021-07-01 07:07:28   \n",
              "2      6.508324099999999,3.3590397  2021-07-01 06:21:02  2021-07-01 07:02:23   \n",
              "3      6.584881099999999,3.3614073  2021-07-01 07:16:07  2021-07-01 07:29:42   \n",
              "4              6.4501069,3.3916154  2021-07-01 09:30:59  2021-07-01 09:34:36   \n",
              "\n",
              "   trip_origin_long  trip_origin_lat  trip_dest_long  trip_dest_lat  \n",
              "0          3.377403         6.508813        3.345031       6.650970  \n",
              "1          3.455538         6.431671        3.472189       6.428081  \n",
              "2          3.338898         6.631679        3.359040       6.508324  \n",
              "3          3.367708         6.572757        3.361407       6.584881  \n",
              "4          3.276634         6.601042        3.391615       6.450107  "
            ],
            "text/html": [
              "\n",
              "  <div id=\"df-23089588-094c-4b1a-b213-14ac467e7539\">\n",
              "    <div class=\"colab-df-container\">\n",
              "      <div>\n",
              "<style scoped>\n",
              "    .dataframe tbody tr th:only-of-type {\n",
              "        vertical-align: middle;\n",
              "    }\n",
              "\n",
              "    .dataframe tbody tr th {\n",
              "        vertical-align: top;\n",
              "    }\n",
              "\n",
              "    .dataframe thead th {\n",
              "        text-align: right;\n",
              "    }\n",
              "</style>\n",
              "<table border=\"1\" class=\"dataframe\">\n",
              "  <thead>\n",
              "    <tr style=\"text-align: right;\">\n",
              "      <th></th>\n",
              "      <th>Trip ID</th>\n",
              "      <th>Trip Origin</th>\n",
              "      <th>Trip Destination</th>\n",
              "      <th>Trip Start Time</th>\n",
              "      <th>Trip End Time</th>\n",
              "      <th>trip_origin_long</th>\n",
              "      <th>trip_origin_lat</th>\n",
              "      <th>trip_dest_long</th>\n",
              "      <th>trip_dest_lat</th>\n",
              "    </tr>\n",
              "  </thead>\n",
              "  <tbody>\n",
              "    <tr>\n",
              "      <th>0</th>\n",
              "      <td>391996</td>\n",
              "      <td>6.508813001668548,3.37740316890347</td>\n",
              "      <td>6.650969799999999,3.3450307</td>\n",
              "      <td>2021-07-01 07:28:04</td>\n",
              "      <td>2021-07-01 07:29:37</td>\n",
              "      <td>3.377403</td>\n",
              "      <td>6.508813</td>\n",
              "      <td>3.345031</td>\n",
              "      <td>6.650970</td>\n",
              "    </tr>\n",
              "    <tr>\n",
              "      <th>1</th>\n",
              "      <td>391997</td>\n",
              "      <td>6.4316714,3.4555375</td>\n",
              "      <td>6.4280814653326,3.4721885847586</td>\n",
              "      <td>2021-07-01 06:38:04</td>\n",
              "      <td>2021-07-01 07:07:28</td>\n",
              "      <td>3.455538</td>\n",
              "      <td>6.431671</td>\n",
              "      <td>3.472189</td>\n",
              "      <td>6.428081</td>\n",
              "    </tr>\n",
              "    <tr>\n",
              "      <th>2</th>\n",
              "      <td>391998</td>\n",
              "      <td>6.631679399999999,3.3388976</td>\n",
              "      <td>6.508324099999999,3.3590397</td>\n",
              "      <td>2021-07-01 06:21:02</td>\n",
              "      <td>2021-07-01 07:02:23</td>\n",
              "      <td>3.338898</td>\n",
              "      <td>6.631679</td>\n",
              "      <td>3.359040</td>\n",
              "      <td>6.508324</td>\n",
              "    </tr>\n",
              "    <tr>\n",
              "      <th>3</th>\n",
              "      <td>391999</td>\n",
              "      <td>6.572757200000001,3.3677082</td>\n",
              "      <td>6.584881099999999,3.3614073</td>\n",
              "      <td>2021-07-01 07:16:07</td>\n",
              "      <td>2021-07-01 07:29:42</td>\n",
              "      <td>3.367708</td>\n",
              "      <td>6.572757</td>\n",
              "      <td>3.361407</td>\n",
              "      <td>6.584881</td>\n",
              "    </tr>\n",
              "    <tr>\n",
              "      <th>4</th>\n",
              "      <td>392001</td>\n",
              "      <td>6.6010417,3.2766339</td>\n",
              "      <td>6.4501069,3.3916154</td>\n",
              "      <td>2021-07-01 09:30:59</td>\n",
              "      <td>2021-07-01 09:34:36</td>\n",
              "      <td>3.276634</td>\n",
              "      <td>6.601042</td>\n",
              "      <td>3.391615</td>\n",
              "      <td>6.450107</td>\n",
              "    </tr>\n",
              "  </tbody>\n",
              "</table>\n",
              "</div>\n",
              "      <button class=\"colab-df-convert\" onclick=\"convertToInteractive('df-23089588-094c-4b1a-b213-14ac467e7539')\"\n",
              "              title=\"Convert this dataframe to an interactive table.\"\n",
              "              style=\"display:none;\">\n",
              "        \n",
              "  <svg xmlns=\"http://www.w3.org/2000/svg\" height=\"24px\"viewBox=\"0 0 24 24\"\n",
              "       width=\"24px\">\n",
              "    <path d=\"M0 0h24v24H0V0z\" fill=\"none\"/>\n",
              "    <path d=\"M18.56 5.44l.94 2.06.94-2.06 2.06-.94-2.06-.94-.94-2.06-.94 2.06-2.06.94zm-11 1L8.5 8.5l.94-2.06 2.06-.94-2.06-.94L8.5 2.5l-.94 2.06-2.06.94zm10 10l.94 2.06.94-2.06 2.06-.94-2.06-.94-.94-2.06-.94 2.06-2.06.94z\"/><path d=\"M17.41 7.96l-1.37-1.37c-.4-.4-.92-.59-1.43-.59-.52 0-1.04.2-1.43.59L10.3 9.45l-7.72 7.72c-.78.78-.78 2.05 0 2.83L4 21.41c.39.39.9.59 1.41.59.51 0 1.02-.2 1.41-.59l7.78-7.78 2.81-2.81c.8-.78.8-2.07 0-2.86zM5.41 20L4 18.59l7.72-7.72 1.47 1.35L5.41 20z\"/>\n",
              "  </svg>\n",
              "      </button>\n",
              "      \n",
              "  <style>\n",
              "    .colab-df-container {\n",
              "      display:flex;\n",
              "      flex-wrap:wrap;\n",
              "      gap: 12px;\n",
              "    }\n",
              "\n",
              "    .colab-df-convert {\n",
              "      background-color: #E8F0FE;\n",
              "      border: none;\n",
              "      border-radius: 50%;\n",
              "      cursor: pointer;\n",
              "      display: none;\n",
              "      fill: #1967D2;\n",
              "      height: 32px;\n",
              "      padding: 0 0 0 0;\n",
              "      width: 32px;\n",
              "    }\n",
              "\n",
              "    .colab-df-convert:hover {\n",
              "      background-color: #E2EBFA;\n",
              "      box-shadow: 0px 1px 2px rgba(60, 64, 67, 0.3), 0px 1px 3px 1px rgba(60, 64, 67, 0.15);\n",
              "      fill: #174EA6;\n",
              "    }\n",
              "\n",
              "    [theme=dark] .colab-df-convert {\n",
              "      background-color: #3B4455;\n",
              "      fill: #D2E3FC;\n",
              "    }\n",
              "\n",
              "    [theme=dark] .colab-df-convert:hover {\n",
              "      background-color: #434B5C;\n",
              "      box-shadow: 0px 1px 3px 1px rgba(0, 0, 0, 0.15);\n",
              "      filter: drop-shadow(0px 1px 2px rgba(0, 0, 0, 0.3));\n",
              "      fill: #FFFFFF;\n",
              "    }\n",
              "  </style>\n",
              "\n",
              "      <script>\n",
              "        const buttonEl =\n",
              "          document.querySelector('#df-23089588-094c-4b1a-b213-14ac467e7539 button.colab-df-convert');\n",
              "        buttonEl.style.display =\n",
              "          google.colab.kernel.accessAllowed ? 'block' : 'none';\n",
              "\n",
              "        async function convertToInteractive(key) {\n",
              "          const element = document.querySelector('#df-23089588-094c-4b1a-b213-14ac467e7539');\n",
              "          const dataTable =\n",
              "            await google.colab.kernel.invokeFunction('convertToInteractive',\n",
              "                                                     [key], {});\n",
              "          if (!dataTable) return;\n",
              "\n",
              "          const docLinkHtml = 'Like what you see? Visit the ' +\n",
              "            '<a target=\"_blank\" href=https://colab.research.google.com/notebooks/data_table.ipynb>data table notebook</a>'\n",
              "            + ' to learn more about interactive tables.';\n",
              "          element.innerHTML = '';\n",
              "          dataTable['output_type'] = 'display_data';\n",
              "          await google.colab.output.renderOutput(dataTable, element);\n",
              "          const docLink = document.createElement('div');\n",
              "          docLink.innerHTML = docLinkHtml;\n",
              "          element.appendChild(docLink);\n",
              "        }\n",
              "      </script>\n",
              "    </div>\n",
              "  </div>\n",
              "  "
            ]
          },
          "metadata": {},
          "execution_count": 11
        }
      ]
    },
    {
      "cell_type": "code",
      "source": [
        "#convert to datetime\n",
        "def convert_to_datetime(series):\n",
        "  series = pd.to_datetime(series)\n",
        "  return series\n",
        "\n",
        "convert_to_datetime(df['Trip Start Time'])\n",
        "convert_to_datetime(df['Trip End Time'])\n",
        "\n",
        "# df['Trip Start Time'] = pd.to_datetime(df['Trip Start Time'])\n",
        "# df['Trip End Time'] = pd.to_datetime(df['Trip End Time'])\n",
        "df.dtypes"
      ],
      "metadata": {
        "colab": {
          "base_uri": "https://localhost:8080/"
        },
        "id": "_v6sHLgjENRu",
        "outputId": "7a7bb3ab-0c17-4aa8-e582-052317121ed3"
      },
      "execution_count": null,
      "outputs": [
        {
          "output_type": "execute_result",
          "data": {
            "text/plain": [
              "Trip ID                      int64\n",
              "Trip Origin                 object\n",
              "Trip Destination            object\n",
              "Trip Start Time     datetime64[ns]\n",
              "Trip End Time       datetime64[ns]\n",
              "trip_origin_long           float64\n",
              "trip_origin_lat            float64\n",
              "trip_dest_long             float64\n",
              "trip_dest_lat              float64\n",
              "dtype: object"
            ]
          },
          "metadata": {},
          "execution_count": 16
        }
      ]
    },
    {
      "cell_type": "markdown",
      "source": [
        "Let's visualize whee most orders ae comming from"
      ],
      "metadata": {
        "id": "7BCi_pI0JLPd"
      }
    },
    {
      "cell_type": "code",
      "source": [
        "# create point of orders and destination\n",
        "origin_geo = df[['trip_origin_lat', 'trip_origin_long']]\n",
        "dest_geo = df[['trip_dest_lat', 'trip_dest_long']]\n",
        "dest_geo.head(), origin_geo.head()"
      ],
      "metadata": {
        "colab": {
          "base_uri": "https://localhost:8080/"
        },
        "id": "I0BhWTHFJKV-",
        "outputId": "1fb52656-7292-43e1-ed8f-e29633906000"
      },
      "execution_count": null,
      "outputs": [
        {
          "output_type": "execute_result",
          "data": {
            "text/plain": [
              "(   trip_dest_lat  trip_dest_long\n",
              " 0       6.650970        3.345031\n",
              " 1       6.428081        3.472189\n",
              " 2       6.508324        3.359040\n",
              " 3       6.584881        3.361407\n",
              " 4       6.450107        3.391615,    trip_origin_lat  trip_origin_long\n",
              " 0         6.508813          3.377403\n",
              " 1         6.431671          3.455538\n",
              " 2         6.631679          3.338898\n",
              " 3         6.572757          3.367708\n",
              " 4         6.601042          3.276634)"
            ]
          },
          "metadata": {},
          "execution_count": 21
        }
      ]
    },
    {
      "cell_type": "markdown",
      "source": [
        "Now let’s create a basic visualization to represent all the data points accordingly on a canvas. We will paint the canvas black and show all the data points there at their exact location. Visualizing origin of trips first."
      ],
      "metadata": {
        "id": "lEB4EOvpMO4B"
      }
    },
    {
      "cell_type": "code",
      "source": [
        "# origin location plot\n",
        "agg = ds.Canvas().points(origin_geo, 'trip_origin_lat', 'trip_origin_long')\n",
        "ds.tf.set_background(ds.tf.shade(agg, cmap=cc.fire), \"black\")"
      ],
      "metadata": {
        "colab": {
          "base_uri": "https://localhost:8080/",
          "height": 623
        },
        "id": "NJJiO1YJMUq-",
        "outputId": "8215a93b-156c-4507-9d1e-d3611e40b90b"
      },
      "execution_count": null,
      "outputs": [
        {
          "output_type": "execute_result",
          "data": {
            "text/plain": [
              "<xarray.Image (trip_origin_long: 600, trip_origin_lat: 600)>\n",
              "array([[4278190724, 4278190080, 4278190080, ..., 4278190080, 4278190080,\n",
              "        4278190080],\n",
              "       [4278190080, 4278190080, 4278190080, ..., 4278190080, 4278190080,\n",
              "        4278190080],\n",
              "       [4278190080, 4278190080, 4278190080, ..., 4278190080, 4278190080,\n",
              "        4278190080],\n",
              "       ...,\n",
              "       [4278190080, 4278190080, 4278190080, ..., 4278190080, 4278190080,\n",
              "        4278190080],\n",
              "       [4278190080, 4278190080, 4278190080, ..., 4278190080, 4278190080,\n",
              "        4278190080],\n",
              "       [4278190080, 4278190080, 4278190080, ..., 4278190080, 4278190080,\n",
              "        4278190080]], dtype=uint32)\n",
              "Coordinates:\n",
              "  * trip_origin_lat   (trip_origin_lat) float64 1.007 1.021 ... 9.198 9.211\n",
              "  * trip_origin_long  (trip_origin_long) float64 1.006 1.019 ... 8.503 8.516"
            ],
            "text/html": [
              "<img style=\"margin: auto; border:1px solid\" src='data:image/png;base64,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'/>"
            ],
            "image/png": "[encoded data removed]"
          },
          "metadata": {},
          "execution_count": 23
        }
      ]
    },
    {
      "cell_type": "markdown",
      "source": [
        "Looks like t"
      ],
      "metadata": {
        "id": "NxBMosVcNQi9"
      }
    },
    {
      "cell_type": "code",
      "source": [
        "# destination location plot\n",
        "agg = ds.Canvas().points(dest_geo, 'trip_dest_lat', 'trip_dest_long')\n",
        "ds.tf.set_background(ds.tf.shade(agg, cmap=cc.fire), \"black\")"
      ],
      "metadata": {
        "colab": {
          "base_uri": "https://localhost:8080/",
          "height": 623
        },
        "id": "PwN3gq4aOSBQ",
        "outputId": "69f44bf0-d312-4dd1-bdf9-770a16af7980"
      },
      "execution_count": null,
      "outputs": [
        {
          "output_type": "execute_result",
          "data": {
            "text/plain": [
              "<xarray.Image (trip_dest_long: 600, trip_dest_lat: 600)>\n",
              "array([[4278190080, 4278190080, 4278190080, ..., 4278190080, 4278190080,\n",
              "        4278190080],\n",
              "       [4278190080, 4278190080, 4278190080, ..., 4278190080, 4278190080,\n",
              "        4278190080],\n",
              "       [4278190080, 4278190080, 4278190080, ..., 4278190080, 4278190080,\n",
              "        4278190080],\n",
              "       ...,\n",
              "       [4278190080, 4278190080, 4278190080, ..., 4278190080, 4278190080,\n",
              "        4278190080],\n",
              "       [4278190080, 4278190080, 4278190080, ..., 4278190080, 4278190080,\n",
              "        4278190080],\n",
              "       [4278190080, 4278190080, 4278190080, ..., 4278190080, 4278190080,\n",
              "        4278190080]], dtype=uint32)\n",
              "Coordinates:\n",
              "  * trip_dest_lat   (trip_dest_lat) float64 1.007 1.02 1.034 ... 9.036 9.05\n",
              "  * trip_dest_long  (trip_dest_long) float64 -0.2858 -0.271 ... 8.586 8.6"
            ],
            "text/html": [
              "<img style=\"margin: auto; border:1px solid\" src='data:image/png;base64,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'/>"
            ],
            "image/png": "[encoded data removed]"
          },
          "metadata": {},
          "execution_count": 25
        }
      ]
    },
    {
      "cell_type": "markdown",
      "source": [
        "# New Section"
      ],
      "metadata": {
        "id": "lQJo2Iidw_c8"
      }
    },
    {
      "cell_type": "markdown",
      "source": [
        "Let's see the descriptive statistics that summarize the central tendency of the variable, their dispersion, the presence of empty values and their shape."
      ],
      "metadata": {
        "id": "K6h0YWd91iod"
      }
    },
    {
      "cell_type": "code",
      "source": [
        "#Describe the data\n",
        "df.describe()"
      ],
      "metadata": {
        "id": "BM3BLaQB1kVh"
      },
      "execution_count": null,
      "outputs": []
    }
  ]
}